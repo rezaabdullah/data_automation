{
 "cells": [
  {
   "cell_type": "code",
   "execution_count": 1,
   "metadata": {},
   "outputs": [],
   "source": [
    "# Import packages and modules\n",
    "import pandas as pd\n",
    "from sqlalchemy import create_engine\n",
    "import pymysql\n",
    "import cryptography\n",
    "from dotenv import load_dotenv, dotenv_values\n",
    "import os"
   ]
  },
  {
   "cell_type": "code",
   "execution_count": 2,
   "metadata": {},
   "outputs": [],
   "source": [
    "# Environment variables\n",
    "load_dotenv(verbose=True)\n",
    "USER = os.getenv(\"USER\")\n",
    "PASSWORD = os.getenv(\"PASSWORD\")\n",
    "DATABASE = os.getenv(\"DATABASE_NAME\")\n",
    "SERVER = os.getenv(\"SERVER\")\n",
    "PORT = os.getenv(\"PORT\")"
   ]
  },
  {
   "cell_type": "code",
   "execution_count": 3,
   "metadata": {},
   "outputs": [],
   "source": [
    "# Engine configuration\n",
    "cnx_str = \"mysql+pymysql://{user}:{pw}@{server}:{port}/{db}\".format(user=USER, pw=PASSWORD, server=SERVER, \n",
    "                port=PORT, db=DATABASE)\n",
    "cnx = create_engine(cnx_str).connect()"
   ]
  },
  {
   "cell_type": "code",
   "execution_count": 4,
   "metadata": {},
   "outputs": [],
   "source": [
    "# Read data from table\n",
    "df = pd.read_sql(\"select * from gds_sale_transactions\", con=cnx)\n",
    "# Hiding df.head() to remove PIIs\n",
    "# df.head()\n",
    "print(\"test\")"
   ]
  },
  {
   "cell_type": "code",
   "execution_count": 5,
   "metadata": {},
   "outputs": [],
   "source": [
    "# Write data to table\n",
    "df.to_sql(\"sale_table\", cnx, if_exists='append')\n",
    "cnx.close()"
   ]
  },
  {
   "cell_type": "code",
   "execution_count": null,
   "metadata": {},
   "outputs": [],
   "source": []
  }
 ],
 "metadata": {
  "interpreter": {
   "hash": "2d7d7962d9b143fb6473f7aca1835ed02801e2d2873f84c5ae9fedf17e9eec23"
  },
  "kernelspec": {
   "display_name": "Python 3.8.10 64-bit ('venv': venv)",
   "name": "python3"
  },
  "language_info": {
   "codemirror_mode": {
    "name": "ipython",
    "version": 3
   },
   "file_extension": ".py",
   "mimetype": "text/x-python",
   "name": "python",
   "nbconvert_exporter": "python",
   "pygments_lexer": "ipython3",
   "version": "3.8.10"
  },
  "orig_nbformat": 4
 },
 "nbformat": 4,
 "nbformat_minor": 2
}
